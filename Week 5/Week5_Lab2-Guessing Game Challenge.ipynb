{
 "cells": [
  {
   "cell_type": "markdown",
   "metadata": {},
   "source": [
    "# Guessing Game Challenge\n",
    "\n",
    "Let's use `while` loops to create a guessing game.\n",
    "\n",
    "The Challenge:\n",
    "\n",
    "Write a program that picks a random integer from 1 to 100, and has players guess the number. The rules are:\n",
    "\n",
    "1. If a player's guess is less than 1 or greater than 100, say \"OUT OF BOUNDS\"\n",
    "2. On a player's first turn, if their guess is\n",
    " * within 10 of the number, return \"WARM!\"\n",
    " * further than 10 away from the number, return \"COLD!\"\n",
    "3. On all subsequent turns, if a guess is \n",
    " * closer to the number than the previous guess return \"WARMER!\"\n",
    " * farther from the number than the previous guess, return \"COLDER!\"\n",
    "4. When the player's guess equals the number, tell them they've guessed correctly *and* how many guesses it took!\n",
    "\n",
    "You can try this from scratch, or follow the steps outlined below. A separate Solution notebook has been provided. Good luck!\n"
   ]
  },
  {
   "cell_type": "markdown",
   "metadata": {},
   "source": [
    "#### First, pick a random integer from 1 to 100 using the random module and assign it to a variable\n",
    "\n",
    "Note: `random.randint(a,b)` returns a random integer in range `[a, b]`, including both end points."
   ]
  },
  {
   "cell_type": "code",
   "execution_count": 5,
   "metadata": {
    "tags": []
   },
   "outputs": [
    {
     "name": "stdout",
     "output_type": "stream",
     "text": [
      "30\n"
     ]
    }
   ],
   "source": [
    "import random\n",
    "ran = random.randint(1,100)\n",
    "print(ran)"
   ]
  },
  {
   "cell_type": "markdown",
   "metadata": {},
   "source": [
    "#### Next, print an introduction to the game and explain the rules"
   ]
  },
  {
   "cell_type": "code",
   "execution_count": null,
   "metadata": {
    "collapsed": true,
    "jupyter": {
     "outputs_hidden": true
    }
   },
   "outputs": [],
   "source": [
    "print(\"Welcome to the Number Guessing Game!\")\n",
    "print(\"Here are the rules:\")\n",
    "print(\"1. You need to guess a number between 1 and 100.\")\n",
    "print(\"2. If your guess is less than 1 or greater than 100, it's OUT OF BOUNDS.\")\n",
    "print(\"3. On your first turn:\")\n",
    "print(\"   - If your guess is within 10 of the number, you'll get 'WARM!'\")\n",
    "print(\"   - If your guess is further than 10 away from the number, you'll get 'COLD!'\")\n",
    "print(\"4. On all subsequent turns:\")\n",
    "print(\"   - If your guess is closer to the number than the previous guess, you'll get 'WARMER!'\")\n",
    "print(\"   - If your guess is farther from the number than the previous guess, you'll get 'COLDER!'\")\n",
    "print(\"5. When you guess the correct number, you'll be told how many guesses it took!\")\n"
   ]
  },
  {
   "cell_type": "markdown",
   "metadata": {},
   "source": [
    "#### Create a list to store guesses\n",
    "\n",
    "Hint: zero is a good placeholder value. It's useful because it evaluates to \"False\""
   ]
  },
  {
   "cell_type": "code",
   "execution_count": null,
   "metadata": {
    "collapsed": true,
    "jupyter": {
     "outputs_hidden": true
    }
   },
   "outputs": [],
   "source": []
  },
  {
   "cell_type": "markdown",
   "metadata": {},
   "source": [
    "#### Write a `while` loop that asks for a valid guess. Test it a few times to make sure it works."
   ]
  },
  {
   "cell_type": "code",
   "execution_count": null,
   "metadata": {
    "collapsed": true,
    "jupyter": {
     "outputs_hidden": true
    }
   },
   "outputs": [],
   "source": [
    "while True:\n",
    "    \n",
    "    pass"
   ]
  },
  {
   "cell_type": "markdown",
   "metadata": {},
   "source": [
    "#### Write a `while` loop that compares the player's guess to our number. If the player guesses correctly, break from the loop. Otherwise, tell the player if they're warmer or colder, and continue asking for guesses.\n",
    "\n",
    "Some hints:\n",
    "* it may help to sketch out all possible combinations on paper first!\n",
    "* you can use the `abs()` function to find the positive difference between two numbers\n",
    "* if you append all new guesses to the list, then the previous guess is given as `guesses[-2]`"
   ]
  },
  {
   "cell_type": "code",
   "execution_count": 11,
   "metadata": {
    "tags": []
   },
   "outputs": [
    {
     "name": "stdout",
     "output_type": "stream",
     "text": [
      "Welcome to the Number Guessing Game!\n",
      "Here are the rules:\n",
      "1. You need to guess a number between 1 and 100.\n",
      "2. If your guess is less than 1 or greater than 100, it's OUT OF BOUNDS.\n",
      "3. On your first turn:\n",
      "   - If your guess is within 10 of the number, you'll get 'WARM!'\n",
      "   - If your guess is further than 10 away from the number, you'll get 'COLD!'\n",
      "4. On all subsequent turns:\n",
      "   - If your guess is closer to the number than the previous guess, you'll get 'WARMER!'\n",
      "   - If your guess is farther from the number than the previous guess, you'll get 'COLDER!'\n",
      "5. When you guess the correct number, you'll be told how many guesses it took!\n"
     ]
    },
    {
     "name": "stdin",
     "output_type": "stream",
     "text": [
      "Enter your guess (1-100):  50\n"
     ]
    },
    {
     "name": "stdout",
     "output_type": "stream",
     "text": [
      "COLD!\n"
     ]
    },
    {
     "name": "stdin",
     "output_type": "stream",
     "text": [
      "Enter your guess (1-100):  20\n"
     ]
    },
    {
     "name": "stdout",
     "output_type": "stream",
     "text": [
      "COLDER!\n"
     ]
    },
    {
     "name": "stdin",
     "output_type": "stream",
     "text": [
      "Enter your guess (1-100):  60\n"
     ]
    },
    {
     "name": "stdout",
     "output_type": "stream",
     "text": [
      "WARMER!\n"
     ]
    },
    {
     "name": "stdin",
     "output_type": "stream",
     "text": [
      "Enter your guess (1-100):  70\n"
     ]
    },
    {
     "name": "stdout",
     "output_type": "stream",
     "text": [
      "WARMER!\n"
     ]
    },
    {
     "name": "stdin",
     "output_type": "stream",
     "text": [
      "Enter your guess (1-100):  80\n"
     ]
    },
    {
     "name": "stdout",
     "output_type": "stream",
     "text": [
      "WARMER!\n"
     ]
    },
    {
     "name": "stdin",
     "output_type": "stream",
     "text": [
      "Enter your guess (1-100):  90\n"
     ]
    },
    {
     "name": "stdout",
     "output_type": "stream",
     "text": [
      "WARMER!\n"
     ]
    },
    {
     "name": "stdin",
     "output_type": "stream",
     "text": [
      "Enter your guess (1-100):  100\n"
     ]
    },
    {
     "name": "stdout",
     "output_type": "stream",
     "text": [
      "WARMER!\n"
     ]
    },
    {
     "name": "stdin",
     "output_type": "stream",
     "text": [
      "Enter your guess (1-100):  99\n"
     ]
    },
    {
     "name": "stdout",
     "output_type": "stream",
     "text": [
      "WARMER!\n"
     ]
    },
    {
     "name": "stdin",
     "output_type": "stream",
     "text": [
      "Enter your guess (1-100):  88\n"
     ]
    },
    {
     "name": "stdout",
     "output_type": "stream",
     "text": [
      "COLDER!\n"
     ]
    },
    {
     "name": "stdin",
     "output_type": "stream",
     "text": [
      "Enter your guess (1-100):  98\n"
     ]
    },
    {
     "name": "stdout",
     "output_type": "stream",
     "text": [
      "WARMER!\n"
     ]
    },
    {
     "name": "stdin",
     "output_type": "stream",
     "text": [
      "Enter your guess (1-100):  96\n"
     ]
    },
    {
     "ename": "NameError",
     "evalue": "name 'secret_number' is not defined",
     "output_type": "error",
     "traceback": [
      "\u001b[0;31m---------------------------------------------------------------------------\u001b[0m",
      "\u001b[0;31mNameError\u001b[0m                                 Traceback (most recent call last)",
      "Input \u001b[0;32mIn [11]\u001b[0m, in \u001b[0;36m<cell line: 24>\u001b[0;34m()\u001b[0m\n\u001b[1;32m     37\u001b[0m \u001b[38;5;66;03m# Check if the guess is correct\u001b[39;00m\n\u001b[1;32m     38\u001b[0m \u001b[38;5;28;01mif\u001b[39;00m guess \u001b[38;5;241m==\u001b[39m ran:\n\u001b[0;32m---> 39\u001b[0m     \u001b[38;5;28mprint\u001b[39m(\u001b[38;5;124mf\u001b[39m\u001b[38;5;124m\"\u001b[39m\u001b[38;5;124mCongratulations! You\u001b[39m\u001b[38;5;124m'\u001b[39m\u001b[38;5;124mve guessed the number \u001b[39m\u001b[38;5;132;01m{\u001b[39;00msecret_number\u001b[38;5;132;01m}\u001b[39;00m\u001b[38;5;124m in \u001b[39m\u001b[38;5;132;01m{\u001b[39;00mnum_guesses\u001b[38;5;132;01m}\u001b[39;00m\u001b[38;5;124m guesses!\u001b[39m\u001b[38;5;124m\"\u001b[39m)\n\u001b[1;32m     40\u001b[0m     \u001b[38;5;28;01mbreak\u001b[39;00m\n\u001b[1;32m     42\u001b[0m \u001b[38;5;66;03m# Check if it's the first guess\u001b[39;00m\n",
      "\u001b[0;31mNameError\u001b[0m: name 'secret_number' is not defined"
     ]
    }
   ],
   "source": [
    "# Intro\n",
    "print(\"Welcome to the Number Guessing Game!\")\n",
    "print(\"Here are the rules:\")\n",
    "print(\"1. You need to guess a number between 1 and 100.\")\n",
    "print(\"2. If your guess is less than 1 or greater than 100, it's OUT OF BOUNDS.\")\n",
    "print(\"3. On your first turn:\")\n",
    "print(\"   - If your guess is within 10 of the number, you'll get 'WARM!'\")\n",
    "print(\"   - If your guess is further than 10 away from the number, you'll get 'COLD!'\")\n",
    "print(\"4. On all subsequent turns:\")\n",
    "print(\"   - If your guess is closer to the number than the previous guess, you'll get 'WARMER!'\")\n",
    "print(\"   - If your guess is farther from the number than the previous guess, you'll get 'COLDER!'\")\n",
    "print(\"5. When you guess the correct number, you'll be told how many guesses it took!\")\n",
    "\n",
    "# Imports\n",
    "import random\n",
    "\n",
    "# Get random number\n",
    "ran = random.randint(1,100)\n",
    "numGuesses = 0\n",
    "guesses = []\n",
    "\n",
    "while True:\n",
    "    # Get the player's guess check for non number values\n",
    "    try:\n",
    "        guess = int(input(\"Enter your guess (1-100): \"))\n",
    "    except ValueError:\n",
    "        print(\"Please enter a valid number.\")\n",
    "        continue\n",
    "\n",
    "    numGuesses += 1\n",
    "\n",
    "    # Check if the guess is out of bounds\n",
    "    if guess < 1 or guess > 100:\n",
    "        print(\"OUT OF BOUNDS! Please guess a number between 1 and 100.\")\n",
    "        continue\n",
    "\n",
    "    # Check if the guess is correct\n",
    "    if guess == ran:\n",
    "        print(f\"Congratulations! You've guessed the number {ran} in {num_guesses} guesses!\")\n",
    "        break\n",
    "\n",
    "    # Check if it's the first guess\n",
    "    if numGuesses == 1:\n",
    "        if abs(ran - guess) <= 10:\n",
    "            print(\"WARM!\")\n",
    "        else:\n",
    "            print(\"COLD!\")\n",
    "    else:\n",
    "        # Compare the current guess with the previous guess\n",
    "        if abs(ran - guess) < abs(ran - guesses[-1]):\n",
    "            print(\"WARMER!\")\n",
    "        else:\n",
    "            print(\"COLDER!\")\n",
    "\n",
    "    # Add the guess to the list of previous guesses\n",
    "    guesses.append(guess)\n",
    "\n",
    "    pass"
   ]
  },
  {
   "cell_type": "markdown",
   "metadata": {},
   "source": [
    "That's it! You've just programmed your first game!\n",
    "\n",
    "In the next section we'll learn how to turn some of these repetitive actions into *functions* that can be called whenever we need them."
   ]
  }
 ],
 "metadata": {
  "kernelspec": {
   "display_name": "anaconda-2022.05-py39",
   "language": "python",
   "name": "conda-env-anaconda-2022.05-py39-py"
  },
  "language_info": {
   "codemirror_mode": {
    "name": "ipython",
    "version": 3
   },
   "file_extension": ".py",
   "mimetype": "text/x-python",
   "name": "python",
   "nbconvert_exporter": "python",
   "pygments_lexer": "ipython3",
   "version": "3.9.12"
  }
 },
 "nbformat": 4,
 "nbformat_minor": 4
}
